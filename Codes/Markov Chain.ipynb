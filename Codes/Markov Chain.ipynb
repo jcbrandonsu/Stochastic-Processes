{
 "cells": [
  {
   "cell_type": "code",
   "execution_count": 1,
   "id": "9b13688e",
   "metadata": {},
   "outputs": [],
   "source": [
    "import numpy as np\n",
    "import matplotlib.pyplot as plt\n",
    "import math\n",
    "from scipy.linalg import expm"
   ]
  },
  {
   "cell_type": "markdown",
   "id": "df120800",
   "metadata": {},
   "source": [
    "Consider the continuous-time __Registration Line Markov Chain__ from Example 2.13 (Lecture 7).\n",
    "\n",
    "1. Implement a simulation of this Markov chain on the time interval $[0,60]$. "
   ]
  },
  {
   "cell_type": "code",
   "execution_count": 2,
   "id": "591f3bf9",
   "metadata": {},
   "outputs": [
    {
     "name": "stdout",
     "output_type": "stream",
     "text": [
      "[0, 4.146884667930533, 4.307560881619954, 5.806095072507514, 7.896170789969743, 8.024955338650013, 8.468428509531625, 11.278815921663512, 11.63511573906746, 15.358637653332883, 15.482387769270657, 21.12220974864516, 21.160944754175695, 23.160394011589652, 31.954140505333882, 40.84692882014693, 41.15553596302835, 41.941100571973514, 43.36654212863345, 43.60427836438603, 45.270444845250594, 47.18097553378923, 47.41681847046771, 51.368184434268144, 52.14114812167111, 57.24064872656433, 57.27127918011537, 57.277341034097255]\n",
      "[0, 1, 0, 1, 2, 1, 2, 3, 4, 4, 4, 4, 3, 2, 3, 2, 1, 2, 1, 2, 3, 2, 1, 0, 1, 2, 1, 0]\n"
     ]
    }
   ],
   "source": [
    "lambda_rate = 1/4 # students arrival rate\n",
    "mu_rate = 1/5 # students service rate\n",
    "end_time = 60 # time interval\n",
    "state = 0 # the number of students in the line\n",
    "t = 0 # time at each transition, intial at 0\n",
    "time = [0] # a list to store every transition time\n",
    "states = [0] # a list to store the number of students at the transition time\n",
    "\n",
    "while t < end_time:\n",
    "    T1 = np.random.exponential(1/lambda_rate)\n",
    "    T2 = np.random.exponential(1/mu_rate)\n",
    "    \n",
    "    if t + min(T1, T2) > 60:\n",
    "        break\n",
    "    \n",
    "    if T1 < T2:\n",
    "        t += T1\n",
    "        if state < 4:\n",
    "            state += 1\n",
    "    else:\n",
    "        t += T2\n",
    "        if state > 0:\n",
    "            state -= 1\n",
    "    \n",
    "    time.append(t)\n",
    "    states.append(state)\n",
    "\n",
    "print(time)\n",
    "print(states)"
   ]
  },
  {
   "cell_type": "markdown",
   "id": "38bffc13",
   "metadata": {},
   "source": [
    "2. Plot a trajectory of this Markov Chain on $[0,60]$ by using your code from 1.\n",
    "\n",
    "<i>Hint:</i> You can use the <tt>plt.hlines()</tt> command to plot horizontal lines (check also the documentation online)."
   ]
  },
  {
   "cell_type": "code",
   "execution_count": 5,
   "id": "5204becd",
   "metadata": {},
   "outputs": [
    {
     "data": {
      "image/png": "[encoded data removed]",
      "text/plain": [
       "<Figure size 1000x600 with 1 Axes>"
      ]
     },
     "metadata": {},
     "output_type": "display_data"
    }
   ],
   "source": [
    "plt.figure(figsize=(10, 6))\n",
    "for s in range(len(states)-1):\n",
    "    plt.hlines(y=states[s], xmin=time[s], xmax=time[s+1],linewidth=3.0)\n",
    "plt.xlabel('Time')\n",
    "plt.ylabel('Number of Students (States)')\n",
    "plt.title('Trajectory of Registration Line Markov Chain')\n",
    "plt.xlim(0,60)\n",
    "plt.ylim(0,5)\n",
    "plt.grid(True)"
   ]
  },
  {
   "cell_type": "markdown",
   "id": "1e2162bf",
   "metadata": {},
   "source": [
    "3. Compute the transition function $P(t)$ at $t = \\pi$.\n",
    "\n",
    "*Hint:* Use a suitable function from the <tt>scipy.linalg</tt> package (check also the documentation online)."
   ]
  },
  {
   "cell_type": "markdown",
   "id": "d114f1c5",
   "metadata": {},
   "source": [
    "For a continuous-time Markov Chain, the transition function P(t) can be computed by the equation: \n",
    "\n",
    "$$ P(t) = e^{tQ} $$\n",
    "\n",
    "We can use the expm from scipy.linalg to compute the matrix exponential."
   ]
  },
  {
   "cell_type": "code",
   "execution_count": 6,
   "id": "61ee73c7",
   "metadata": {},
   "outputs": [
    {
     "data": {
      "text/plain": [
       "array([[0.55524989, 0.308565  , 0.10512926, 0.02554735, 0.00550851],\n",
       "       [0.246852  , 0.3925013 , 0.24489947, 0.08909819, 0.02664905],\n",
       "       [0.06728272, 0.19591958, 0.37967644, 0.24578083, 0.11134043],\n",
       "       [0.01308024, 0.05702284, 0.19662467, 0.39747023, 0.33580202],\n",
       "       [0.00225628, 0.01364431, 0.07125787, 0.26864162, 0.64419991]])"
      ]
     },
     "execution_count": 6,
     "metadata": {},
     "output_type": "execute_result"
    }
   ],
   "source": [
    "# Create the generator matrix we got in class\n",
    "Q_rg = np.array([[-1/4, 1/4, 0, 0, 0], [1/5, -9/20, 1/4, 0, 0], [0, 1/5, -9/20, 1/4, 0], [0, 0, 1/5, -9/20, 1/4],\n",
    "        [0, 0, 0, 1/5, -1/5]])\n",
    "\n",
    "def get_transition_function(Q):\n",
    "    tran_func = expm(math.pi * Q)\n",
    "    return tran_func\n",
    "# the expm from scipy.linalg can compute the matrix exponential\n",
    "\n",
    "P = get_transition_function(Q_rg)\n",
    "P"
   ]
  },
  {
   "cell_type": "markdown",
   "id": "652e18e0",
   "metadata": {},
   "source": [
    "4. Compute the stationary distribution of this continuous-time Markov chain.\n",
    "\n",
    "*Hint:* Use suitable functions from the <tt>numpy.linalg package</tt> (check also the documentation online)."
   ]
  },
  {
   "cell_type": "markdown",
   "id": "d9083624",
   "metadata": {},
   "source": [
    "We can use the formula\n",
    "$$ \\pi^{T} Q = 0$$ and $$\\sum_{i=1}^n \\pi_{i} = 1$$ to find the stationary distribution"
   ]
  },
  {
   "cell_type": "code",
   "execution_count": 7,
   "id": "91791426",
   "metadata": {},
   "outputs": [
    {
     "data": {
      "text/plain": [
       "array([[0.12184674, 0.15230842, 0.19038553, 0.23798191, 0.29747739]])"
      ]
     },
     "execution_count": 7,
     "metadata": {},
     "output_type": "execute_result"
    }
   ],
   "source": [
    "def get_stationary_distribution(Q):\n",
    "    dim = Q.shape[0] # set the size of the matrix\n",
    "    QT = np.transpose(Q) # transpose generator matrix\n",
    "    QT_1 = np.vstack((QT[:-1], np.ones(dim))) # add one row of all 1s\n",
    "    V = np.vstack((np.zeros((dim - 1, 1)), [1]))\n",
    "    PI = np.linalg.solve(QT_1, V) # solve for stationary distribution\n",
    "    return np.transpose(PI) # return stationary distribution\n",
    "\n",
    "S = get_stationary_distribution(Q_rg)\n",
    "S"
   ]
  },
  {
   "cell_type": "markdown",
   "id": "1abaf739",
   "metadata": {},
   "source": [
    "Multistate Markov models are used in medicine to model the course of diseases. A patient may advance into, or recover from, successively more severe stages of a disease until some terminal state. Each stage represents a state of an absorbing continuous-time Markov chain. \n",
    "\n",
    "Bartolomeo et al. (2011) develop such a model to study the progression of liver disease among patients diagnosed with cirrhosis of the liver. The general form of the infinitesimal generator matrix $Q$ for their three-parameter model is\n",
    "\n",
    "$$ Q = \\begin{pmatrix} -(q_{12} + q_{13}) & q_{12} & q_{13} \\\\ 0 & -q_{23} & q_{23} \\\\ 0 & 0 & 0 \\end{pmatrix}  $$\n",
    "\n",
    "where state 1 represents cirrhosis, state 2 denotes liver cancer, and state 3 is death."
   ]
  },
  {
   "cell_type": "markdown",
   "id": "b65362e2",
   "metadata": {},
   "source": [
    "1. Starting from the first stage (\"cirrhosis\"), estimate the mean time to death (i.e. ending up in stage 3) by running 100,000 simulations. Use the transition rates\n",
    "\n",
    "$$ q_{12} = 0.0151, \\quad q_{13} = 0.0071, \\quad q_{23} = 0.0284.$$"
   ]
  },
  {
   "cell_type": "code",
   "execution_count": 8,
   "id": "b532992b",
   "metadata": {},
   "outputs": [
    {
     "data": {
      "text/plain": [
       "69.03314893075621"
      ]
     },
     "execution_count": 8,
     "metadata": {},
     "output_type": "execute_result"
    }
   ],
   "source": [
    "trials = 100000\n",
    "simulations = [] # list to store all simulations\n",
    "initial_state = 1 # initial state starting from cirrhosis\n",
    "\n",
    "q12_rate = 0.0151\n",
    "q13_rate = 0.0071\n",
    "q23_rate = 0.0284\n",
    "\n",
    "for i in range(trials):\n",
    "    state = initial_state\n",
    "    t = 0\n",
    "    while True:\n",
    "        if state == 1:\n",
    "            q12 = np.random.exponential(1/q12_rate)\n",
    "            q13 = np.random.exponential(1/q13_rate)\n",
    "            if q12 < q13:\n",
    "                t += q12\n",
    "                state = 2\n",
    "            else:\n",
    "                t += q13\n",
    "                break  # transition to death\n",
    "                \n",
    "        if state == 2:\n",
    "            q23 = np.random.exponential(1/q23_rate)\n",
    "            t += q23\n",
    "            break  # transition to death\n",
    "    simulations.append(t)\n",
    "    \n",
    "meantime_to_death = sum(simulations) / trials # calculate the mean time to death\n",
    "meantime_to_death"
   ]
  },
  {
   "cell_type": "markdown",
   "id": "953c6b62",
   "metadata": {},
   "source": [
    "2. Compare your approximation from 1. with the exact theoretical mean time to death (implement a suitable formula from class).  "
   ]
  },
  {
   "cell_type": "markdown",
   "id": "7eddccac",
   "metadata": {},
   "source": [
    "$$\n",
    "Q = \n",
    "\\begin{pmatrix}\n",
    "-(0.0151+0.0071) & 0.0151 & 0.0071 \\\\\n",
    "0 & -0.0284 & 0.0284 \\\\\n",
    "0 & 0 & 0\n",
    "\\end{pmatrix}\n",
    "$$"
   ]
  },
  {
   "cell_type": "markdown",
   "id": "5fc4c962",
   "metadata": {},
   "source": [
    "Using the formula to compute starting from cirrhosis, the exact theoretical mean time to death is:\n",
    "\n",
    "$$ \n",
    "\\frac{1}{q_{12}+q_{13}} + \\frac{q_{12}}{q_{23}(q_{12}+q_{13})} = \\frac{1}{0.0151+0.0071} + \\frac{0.0151}\n",
    "{0.0284(0.0151+0.0071)} = 68.9950513894 \n",
    "$$"
   ]
  },
  {
   "cell_type": "markdown",
   "id": "509413c6",
   "metadata": {},
   "source": [
    "As we can see, the expected time to death of 100,000 simulations is pretty close to the theoretical mean time to death. "
   ]
  },
  {
   "cell_type": "code",
   "execution_count": null,
   "id": "d7c932a0",
   "metadata": {},
   "outputs": [],
   "source": []
  }
 ],
 "metadata": {
  "kernelspec": {
   "display_name": "Python 3 (ipykernel)",
   "language": "python",
   "name": "python3"
  },
  "language_info": {
   "codemirror_mode": {
    "name": "ipython",
    "version": 3
   },
   "file_extension": ".py",
   "mimetype": "text/x-python",
   "name": "python",
   "nbconvert_exporter": "python",
   "pygments_lexer": "ipython3",
   "version": "3.10.13"
  }
 },
 "nbformat": 4,
 "nbformat_minor": 5
}
